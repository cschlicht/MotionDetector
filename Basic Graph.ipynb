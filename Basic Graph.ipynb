{
 "cells": [
  {
   "cell_type": "code",
   "execution_count": null,
   "metadata": {},
   "outputs": [],
   "source": [
    "#Making a basic Bokeh line graph\n",
    "\n",
    "#importing BOkeh\n",
    "from bokeh.plotting import figure \n",
    "from bokeh.io import output_file, show\n",
    "import pandas\n",
    "#prepare some data\n",
    "df = pandas.read_excel(\"http://pythonhow.com/data/verlegenhuken.xlsx\")\n",
    "x = df[\"Temperature\"]\n",
    "y = df[\"Pressure\"]\n",
    "\n",
    "\n",
    "#prepare teh output file\n",
    "output_file(\"Pressure vs Temperature.html\")\n",
    "\n",
    "\n",
    "#create a figure object\n",
    "f= figure(plot_width = 500, plot_height = 400, tools = 'pan', logo = None)\n",
    "\n",
    "f.title.text = \"Pressure vs. Temperature\"\n",
    "f.xaxis.axis_label = \"Temperature (C)\"\n",
    "f.yaxis.axis_label = \"Pressure (hPa)\"\n",
    "#create line plot\n",
    "f.cicle(x / 10,y / 10)\n",
    "show(f)"
   ]
  },
  {
   "cell_type": "code",
   "execution_count": 16,
   "metadata": {},
   "outputs": [
    {
     "name": "stdout",
     "output_type": "stream",
     "text": [
      "Collecting xlrd\n",
      "  Downloading https://files.pythonhosted.org/packages/b0/16/63576a1a001752e34bf8ea62e367997530dc553b689356b9879339cf45a4/xlrd-1.2.0-py2.py3-none-any.whl (103kB)\n",
      "Installing collected packages: xlrd\n",
      "Successfully installed xlrd-1.2.0\n",
      "Note: you may need to restart the kernel to use updated packages.\n"
     ]
    },
    {
     "name": "stderr",
     "output_type": "stream",
     "text": [
      "WARNING: You are using pip version 19.2.3, however version 20.1.1 is available.\n",
      "You should consider upgrading via the 'python -m pip install --upgrade pip' command.\n"
     ]
    }
   ],
   "source": [
    "pip install xlrd"
   ]
  },
  {
   "cell_type": "code",
   "execution_count": 23,
   "metadata": {},
   "outputs": [],
   "source": [
    "#Making a basic Bokeh line graph\n",
    "\n",
    "#importing BOkeh\n",
    "from bokeh.plotting import figure \n",
    "from bokeh.io import output_file, show\n",
    "import pandas\n",
    "#prepare some data\n",
    "df = pandas.read_excel(\"http://pythonhow.com/data/verlegenhuken.xlsx\")\n",
    "x = df[\"Temperature\"]\n",
    "y = df[\"Pressure\"]\n",
    "\n",
    "\n",
    "#prepare teh output file\n",
    "output_file(\"Pressure vs Temperature.html\")\n",
    "\n",
    "\n",
    "#create a figure object\n",
    "f= figure(plot_width = 500, plot_height = 400, tools = 'pan')\n",
    "\n",
    "f.title.text = \"Pressure vs. Temperature\"\n",
    "f.xaxis.axis_label = \"Temperature (C)\"\n",
    "f.yaxis.axis_label = \"Pressure (hPa)\"\n",
    "#create line plot\n",
    "f.circle(x / 10,y / 10, size = 0.5)\n",
    "show(f)"
   ]
  }
 ],
 "metadata": {
  "kernelspec": {
   "display_name": "Python 3",
   "language": "python",
   "name": "python3"
  },
  "language_info": {
   "codemirror_mode": {
    "name": "ipython",
    "version": 3
   },
   "file_extension": ".py",
   "mimetype": "text/x-python",
   "name": "python",
   "nbconvert_exporter": "python",
   "pygments_lexer": "ipython3",
   "version": "3.8.3"
  }
 },
 "nbformat": 4,
 "nbformat_minor": 4
}
